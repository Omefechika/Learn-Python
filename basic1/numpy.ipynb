{
 "cells": [
  {
   "cell_type": "code",
   "execution_count": null,
   "id": "006c5e6c-5c2e-4f5e-bca5-0ce776ea5a3c",
   "metadata": {},
   "outputs": [],
   "source": []
  }
 ],
 "metadata": {
  "kernelspec": {
   "display_name": "",
   "name": ""
  },
  "language_info": {
   "name": ""
  }
 },
 "nbformat": 4,
 "nbformat_minor": 5
}
