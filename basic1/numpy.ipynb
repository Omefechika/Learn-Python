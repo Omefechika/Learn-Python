{
 "cells": [
  {
   "cell_type": "code",
   "execution_count": null,
   "id": "006c5e6c-5c2e-4f5e-bca5-0ce776ea5a3c",
   "metadata": {},
   "outputs": [],
   "source": [
    "import numpy as np # importing the numpy library"
   ]
  },
  {
   "cell_type": "code",
   "execution_count": null,
   "id": "4955168b",
   "metadata": {},
   "outputs": [],
   "source": [
    "# this creates a numpy array object\n",
    "data = np.array([[1.5, -0.1, 3], \n",
    "                 [0, -3, 6.5]])\n",
    "\n",
    "data"
   ]
  },
  {
   "cell_type": "code",
   "execution_count": null,
   "id": "022bbe79",
   "metadata": {},
   "outputs": [],
   "source": [
    "# multiple each entry in the array obj by 10 \n",
    "data * 10"
   ]
  },
  {
   "cell_type": "code",
   "execution_count": null,
   "id": "abea1901-bf40-449c-be1d-b1b4017c7738",
   "metadata": {},
   "outputs": [],
   "source": [
    "# element-wise summation \n",
    "data + data"
   ]
  },
  {
   "cell_type": "code",
   "execution_count": null,
   "id": "a665462c-0fbb-4fe5-be5e-d3a576e5b721",
   "metadata": {},
   "outputs": [],
   "source": [
    "print(data.shape, data.dtype, type(data), end=\"\\n\")\n"
   ]
  },
  {
   "cell_type": "code",
   "execution_count": null,
   "id": "5f547f3b-cc90-41f3-bc1d-564b516b4931",
   "metadata": {},
   "outputs": [],
   "source": [
    "data1 = [6, 7.5, 8, 0, 1]\n",
    "arr1 = np.array(data1)\n",
    "arr1"
   ]
  },
  {
   "cell_type": "code",
   "execution_count": null,
   "id": "4f7f8b54-bf4e-4393-90e1-df232bd6777b",
   "metadata": {},
   "outputs": [],
   "source": [
    "data2 = [[1, 2, 3, 4],\n",
    "        [5, 6, 7, 8]]\n",
    "arr2 = np.array(data2)\n",
    "data2"
   ]
  },
  {
   "cell_type": "code",
   "execution_count": null,
   "id": "d13fdf5a-b90e-47c6-a25f-faa06b54087b",
   "metadata": {},
   "outputs": [],
   "source": [
    "# dimension of an array, this is the same as the number \n",
    "# rows in the array\n",
    "# equivalent to 'arr2.shape[0]'\n",
    "arr2.ndim"
   ]
  },
  {
   "cell_type": "code",
   "execution_count": null,
   "id": "49d3a43f-100f-44bf-b845-9daf41deb7c6",
   "metadata": {},
   "outputs": [],
   "source": [
    "# creating array with zero elements using 'ones', 'zeros' and 'empty'\n",
    "\n",
    "np.zeros((3, 6))"
   ]
  },
  {
   "cell_type": "code",
   "execution_count": null,
   "id": "7e1142c5-038f-43a7-b051-4dce5a89bab4",
   "metadata": {},
   "outputs": [],
   "source": [
    "np.empty((2, 3, 2))# doesn't really produses an empty array"
   ]
  },
  {
   "cell_type": "code",
   "execution_count": null,
   "id": "abf4a700-ae0b-47d4-ac16-df729ef192ff",
   "metadata": {},
   "outputs": [],
   "source": [
    "np.arange(15)"
   ]
  },
  {
   "cell_type": "code",
   "execution_count": null,
   "id": "956df43f-0005-4f8b-ad6f-c72eecf20869",
   "metadata": {},
   "outputs": [],
   "source": [
    "np.full((2,3,5), fill_value=0)"
   ]
  },
  {
   "cell_type": "code",
   "execution_count": null,
   "id": "f6d4e9c7-c90d-44b1-8798-0ac3a58f252b",
   "metadata": {},
   "outputs": [],
   "source": [
    "np.eye(3)"
   ]
  },
  {
   "cell_type": "code",
   "execution_count": null,
   "id": "c54c12d9-1a20-40e4-a082-7efccd1d0647",
   "metadata": {},
   "outputs": [],
   "source": [
    "arr1 = np.array([1, 2,3], dtype=np.float64)\n",
    "arr1.dtype"
   ]
  },
  {
   "cell_type": "code",
   "execution_count": null,
   "id": "7bd37e96-558e-4375-b318-d2977e2b2f4b",
   "metadata": {},
   "outputs": [],
   "source": [
    "arr2 = np.array(np.full((2,3), fill_value=2.0), dtype=np.int32)\n",
    "arr2.dtype"
   ]
  },
  {
   "cell_type": "markdown",
   "id": "b08db75a-714e-4d1e-bad3-f14f28404ef7",
   "metadata": {},
   "source": [
    "#### Arithmetic with Numpy Arrays"
   ]
  },
  {
   "cell_type": "code",
   "execution_count": null,
   "id": "1a85281c-bc64-48e8-819c-64532c4ab02c",
   "metadata": {},
   "outputs": [],
   "source": [
    "arr = np.array([np.arange(1,4), np.arange(4,7)], dtype=np.int32)\n",
    "arr"
   ]
  },
  {
   "cell_type": "code",
   "execution_count": null,
   "id": "adb2828e-cc2a-4a5b-bd46-1f7d7473cfbb",
   "metadata": {},
   "outputs": [],
   "source": [
    "arr * arr"
   ]
  },
  {
   "cell_type": "code",
   "execution_count": null,
   "id": "b224a00d-c406-4007-80b7-bd625c6eaae4",
   "metadata": {},
   "outputs": [],
   "source": [
    "arr - arr"
   ]
  },
  {
   "cell_type": "code",
   "execution_count": null,
   "id": "37f80054-46bb-4c3d-b0d3-60e94616368c",
   "metadata": {},
   "outputs": [],
   "source": [
    "1 / arr"
   ]
  },
  {
   "cell_type": "code",
   "execution_count": null,
   "id": "f451121b-3fd9-46c2-8086-fe528c4fc641",
   "metadata": {},
   "outputs": [],
   "source": [
    "arr ** 2"
   ]
  },
  {
   "cell_type": "code",
   "execution_count": null,
   "id": "bc50676f-793a-4153-ab39-e1524127580e",
   "metadata": {},
   "outputs": [],
   "source": [
    "arr2 = np.array([[0, 4, 1], [7, 2, 12]], dtype=np.float16)\n",
    "arr2"
   ]
  },
  {
   "cell_type": "code",
   "execution_count": null,
   "id": "7c60cd64-b652-42c0-a116-75158b3f6f39",
   "metadata": {},
   "outputs": [],
   "source": [
    "arr2 > arr"
   ]
  },
  {
   "cell_type": "markdown",
   "id": "dc15688d-be7f-4c34-a9ec-9ad3644c520d",
   "metadata": {},
   "source": [
    "#### Basic Indexing and Slicing"
   ]
  },
  {
   "cell_type": "code",
   "execution_count": null,
   "id": "57867858-2ee2-4a4c-aaf9-cab6ba6b7925",
   "metadata": {},
   "outputs": [],
   "source": [
    "arr = np.arange(10)\n",
    "arr"
   ]
  },
  {
   "cell_type": "code",
   "execution_count": null,
   "id": "771931d6-07f6-420c-b6eb-b42964f17ed7",
   "metadata": {},
   "outputs": [],
   "source": [
    "arr[5]"
   ]
  },
  {
   "cell_type": "code",
   "execution_count": null,
   "id": "7a068f56-2ef6-4a80-b371-d17254e5bb8d",
   "metadata": {},
   "outputs": [],
   "source": [
    "arr[5:8] # get the elements from th 5th to 'n-1' element"
   ]
  },
  {
   "cell_type": "code",
   "execution_count": null,
   "id": "0bfc3153-5b92-4930-83a9-3528eb8cd5ce",
   "metadata": {},
   "outputs": [],
   "source": [
    "arr[5:8] = 12 # changing index value\n",
    "arr"
   ]
  },
  {
   "cell_type": "code",
   "execution_count": null,
   "id": "d1999976-722e-47d7-864e-495d13c28a4b",
   "metadata": {},
   "outputs": [],
   "source": [
    "arr_slice = arr[5:8]\n",
    "arr_slice"
   ]
  },
  {
   "cell_type": "code",
   "execution_count": null,
   "id": "de6cb745-f595-428c-8a36-fa4253d5c021",
   "metadata": {},
   "outputs": [],
   "source": [
    "arr_slice[1] = 12345\n",
    "arr"
   ]
  },
  {
   "cell_type": "code",
   "execution_count": null,
   "id": "ffe2e298-083a-44b0-9b47-641fe1075bc3",
   "metadata": {},
   "outputs": [],
   "source": [
    "arr_slice[:] = 64\n",
    "arr"
   ]
  },
  {
   "cell_type": "code",
   "execution_count": null,
   "id": "2bfe8dc9-5e48-4e9c-b337-1637969da52e",
   "metadata": {},
   "outputs": [],
   "source": [
    "arr3d = np.array([[[1, 2, 3], [4, 5, 6]], [[7, 8, 9], [10, 11, 12]]])\n",
    "arr3d"
   ]
  },
  {
   "cell_type": "code",
   "execution_count": null,
   "id": "c4eed128-cd98-47b3-8baf-f61ecbd3d82b",
   "metadata": {},
   "outputs": [],
   "source": [
    "arr3d[:, :, 1]"
   ]
  },
  {
   "cell_type": "code",
   "execution_count": null,
   "id": "f8bda8f6-48b0-48c1-a8e8-a3068ade0937",
   "metadata": {},
   "outputs": [],
   "source": [
    "# to get the number 11\n",
    "arr3d[1, 1,1] # outputs 11"
   ]
  },
  {
   "cell_type": "code",
   "execution_count": null,
   "id": "864aef9b-1117-4b83-8000-27062594e8f1",
   "metadata": {},
   "outputs": [],
   "source": [
    "arr3d[0,1 , 2] # outputs 6"
   ]
  },
  {
   "cell_type": "code",
   "execution_count": null,
   "id": "df15d8f1-c01e-40be-a365-59045de4568c",
   "metadata": {},
   "outputs": [],
   "source": [
    "arr2d = np.array([[1, 2, 3],\n",
    "[4, 5, 6],\n",
    "[7, 8, 9]])\n",
    "arr2d"
   ]
  },
  {
   "cell_type": "code",
   "execution_count": null,
   "id": "d314912b-2066-449d-b48f-0e68226503ac",
   "metadata": {},
   "outputs": [],
   "source": [
    "arr2d[:, 1]"
   ]
  },
  {
   "cell_type": "code",
   "execution_count": null,
   "id": "ad916950-acb2-4120-8202-0692992b86f0",
   "metadata": {},
   "outputs": [],
   "source": []
  },
  {
   "cell_type": "code",
   "execution_count": null,
   "id": "caeeb0dd-ada0-42ff-b68f-cf46bebf2121",
   "metadata": {},
   "outputs": [],
   "source": []
  },
  {
   "cell_type": "code",
   "execution_count": null,
   "id": "c939fe30-004d-4a09-80e5-591f7d5eb7e0",
   "metadata": {},
   "outputs": [],
   "source": []
  },
  {
   "cell_type": "code",
   "execution_count": null,
   "id": "661b80fb-3b9a-4f19-88ad-5798af889870",
   "metadata": {},
   "outputs": [],
   "source": []
  },
  {
   "cell_type": "code",
   "execution_count": null,
   "id": "298ce69d-37d8-4647-8a49-1ce3feb317fb",
   "metadata": {},
   "outputs": [],
   "source": []
  },
  {
   "cell_type": "code",
   "execution_count": null,
   "id": "7a1fd67a-c824-4282-bd1c-f5f3a7e96e80",
   "metadata": {},
   "outputs": [],
   "source": []
  },
  {
   "cell_type": "code",
   "execution_count": null,
   "id": "cb2e88d0-b792-4839-a73a-0e7a7db3859d",
   "metadata": {},
   "outputs": [],
   "source": []
  },
  {
   "cell_type": "code",
   "execution_count": null,
   "id": "0c6de6c8-1451-4b9a-a101-c52cd66ec30a",
   "metadata": {},
   "outputs": [],
   "source": []
  },
  {
   "cell_type": "code",
   "execution_count": null,
   "id": "2cc8453f-24cd-44a0-8021-75e348cbf2c9",
   "metadata": {},
   "outputs": [],
   "source": []
  },
  {
   "cell_type": "code",
   "execution_count": null,
   "id": "3338ee16-d568-4ab0-bbf8-479e8a09aef3",
   "metadata": {},
   "outputs": [],
   "source": []
  },
  {
   "cell_type": "code",
   "execution_count": null,
   "id": "2a7bad15-18b5-4c03-bc08-63b6a294bc89",
   "metadata": {},
   "outputs": [],
   "source": []
  },
  {
   "cell_type": "code",
   "execution_count": null,
   "id": "4b1c0ea3-22a9-4d78-8b95-6b16343619e3",
   "metadata": {},
   "outputs": [],
   "source": []
  }
 ],
 "metadata": {
  "kernelspec": {
   "display_name": "Python 3 (ipykernel)",
   "language": "python",
   "name": "python3"
  },
  "language_info": {
   "codemirror_mode": {
    "name": "ipython",
    "version": 3
   },
   "file_extension": ".py",
   "mimetype": "text/x-python",
   "name": "python",
   "nbconvert_exporter": "python",
   "pygments_lexer": "ipython3",
   "version": "3.12.2"
  }
 },
 "nbformat": 4,
 "nbformat_minor": 5
}
